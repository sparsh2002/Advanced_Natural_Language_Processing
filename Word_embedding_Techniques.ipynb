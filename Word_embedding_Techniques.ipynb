{
  "cells": [
    {
      "cell_type": "markdown",
      "metadata": {
        "id": "view-in-github",
        "colab_type": "text"
      },
      "source": [
        "<a href=\"https://colab.research.google.com/github/sparsh2002/Advanced_Natural_Language_Processing/blob/master/Word_embedding_Techniques.ipynb\" target=\"_parent\"><img src=\"https://colab.research.google.com/assets/colab-badge.svg\" alt=\"Open In Colab\"/></a>"
      ]
    },
    {
      "cell_type": "markdown",
      "metadata": {
        "id": "eHNf7J680XF-"
      },
      "source": [
        "### Word Embedding Techniques using Embedding Layer in Keras"
      ]
    },
    {
      "cell_type": "code",
      "execution_count": 1,
      "metadata": {
        "id": "PEsK0_yl0XGB"
      },
      "outputs": [],
      "source": [
        "### Libraries USed Tensorflow> 2.0  and keras"
      ]
    },
    {
      "cell_type": "code",
      "execution_count": 2,
      "metadata": {
        "colab": {
          "base_uri": "https://localhost:8080/"
        },
        "id": "pslw1Ya90XGC",
        "outputId": "91c7cfb1-7aee-4a49-baa8-3b3d24a03eab"
      },
      "outputs": [
        {
          "output_type": "stream",
          "name": "stdout",
          "text": [
            "Looking in indexes: https://pypi.org/simple, https://us-python.pkg.dev/colab-wheels/public/simple/\n",
            "Collecting tensorflow-gpu\n",
            "  Downloading tensorflow-gpu-2.12.0.tar.gz (2.6 kB)\n",
            "  Preparing metadata (setup.py) ... \u001b[?25l\u001b[?25hdone\n",
            "Collecting python_version>\"3.7\"\n",
            "  Downloading python_version-0.0.2-py2.py3-none-any.whl (3.4 kB)\n",
            "Building wheels for collected packages: tensorflow-gpu\n",
            "  \u001b[1;31merror\u001b[0m: \u001b[1msubprocess-exited-with-error\u001b[0m\n",
            "  \n",
            "  \u001b[31m×\u001b[0m \u001b[32mpython setup.py bdist_wheel\u001b[0m did not run successfully.\n",
            "  \u001b[31m│\u001b[0m exit code: \u001b[1;36m1\u001b[0m\n",
            "  \u001b[31m╰─>\u001b[0m See above for output.\n",
            "  \n",
            "  \u001b[1;35mnote\u001b[0m: This error originates from a subprocess, and is likely not a problem with pip.\n",
            "  Building wheel for tensorflow-gpu (setup.py) ... \u001b[?25lerror\n",
            "\u001b[31m  ERROR: Failed building wheel for tensorflow-gpu\u001b[0m\u001b[31m\n",
            "\u001b[0m\u001b[?25h  Running setup.py clean for tensorflow-gpu\n",
            "Failed to build tensorflow-gpu\n",
            "Installing collected packages: python_version, tensorflow-gpu\n",
            "  \u001b[1;31merror\u001b[0m: \u001b[1msubprocess-exited-with-error\u001b[0m\n",
            "  \n",
            "  \u001b[31m×\u001b[0m \u001b[32mRunning setup.py install for tensorflow-gpu\u001b[0m did not run successfully.\n",
            "  \u001b[31m│\u001b[0m exit code: \u001b[1;36m1\u001b[0m\n",
            "  \u001b[31m╰─>\u001b[0m See above for output.\n",
            "  \n",
            "  \u001b[1;35mnote\u001b[0m: This error originates from a subprocess, and is likely not a problem with pip.\n",
            "  Running setup.py install for tensorflow-gpu ... \u001b[?25l\u001b[?25herror\n",
            "\u001b[1;31merror\u001b[0m: \u001b[1mlegacy-install-failure\u001b[0m\n",
            "\n",
            "\u001b[31m×\u001b[0m Encountered error while trying to install package.\n",
            "\u001b[31m╰─>\u001b[0m tensorflow-gpu\n",
            "\n",
            "\u001b[1;35mnote\u001b[0m: This is an issue with the package mentioned above, not pip.\n",
            "\u001b[1;36mhint\u001b[0m: See above for output from the failure.\n"
          ]
        }
      ],
      "source": [
        "!pip install tensorflow-gpu"
      ]
    },
    {
      "cell_type": "code",
      "source": [
        "import tensorflow as tf\n",
        "print(tf.__version__)"
      ],
      "metadata": {
        "colab": {
          "base_uri": "https://localhost:8080/"
        },
        "id": "yZ5hceiMAX7n",
        "outputId": "97722a46-42fe-4c2c-c570-bb43515b8434"
      },
      "execution_count": 3,
      "outputs": [
        {
          "output_type": "stream",
          "name": "stdout",
          "text": [
            "2.11.0\n"
          ]
        }
      ]
    },
    {
      "cell_type": "code",
      "execution_count": 4,
      "metadata": {
        "id": "k4nKifUl0XGC"
      },
      "outputs": [],
      "source": [
        "##tensorflow >2.0\n",
        "from tensorflow.keras.preprocessing.text import one_hot"
      ]
    },
    {
      "cell_type": "code",
      "source": [],
      "metadata": {
        "id": "hADTdqZTAUfS"
      },
      "execution_count": null,
      "outputs": []
    },
    {
      "cell_type": "code",
      "execution_count": 5,
      "metadata": {
        "id": "Fu9PuYeu0XGD"
      },
      "outputs": [],
      "source": [
        "### sentences\n",
        "sent=[  'the glass of milk',\n",
        "     'the glass of juice',\n",
        "     'the cup of tea',\n",
        "    'I am a good boy',\n",
        "     'I am a good developer',\n",
        "     'understand the meaning of words',\n",
        "     'your videos are good']"
      ]
    },
    {
      "cell_type": "code",
      "execution_count": 6,
      "metadata": {
        "colab": {
          "base_uri": "https://localhost:8080/"
        },
        "id": "x5d1D3_20XGD",
        "outputId": "fcd35b41-6679-486b-fd0b-06a2af440955"
      },
      "outputs": [
        {
          "output_type": "execute_result",
          "data": {
            "text/plain": [
              "['the glass of milk',\n",
              " 'the glass of juice',\n",
              " 'the cup of tea',\n",
              " 'I am a good boy',\n",
              " 'I am a good developer',\n",
              " 'understand the meaning of words',\n",
              " 'your videos are good']"
            ]
          },
          "metadata": {},
          "execution_count": 6
        }
      ],
      "source": [
        "sent"
      ]
    },
    {
      "cell_type": "code",
      "execution_count": 7,
      "metadata": {
        "id": "tjnXIn3B0XGE"
      },
      "outputs": [],
      "source": [
        "### Vocabulary size\n",
        "voc_size=500"
      ]
    },
    {
      "cell_type": "markdown",
      "metadata": {
        "id": "-vQOdeKk0XGE"
      },
      "source": [
        "#### One Hot Representation"
      ]
    },
    {
      "cell_type": "code",
      "execution_count": 8,
      "metadata": {
        "colab": {
          "base_uri": "https://localhost:8080/"
        },
        "id": "gojfZpAW0XGE",
        "outputId": "81a53462-76b1-4581-c1e3-cc39a62a8996"
      },
      "outputs": [
        {
          "output_type": "stream",
          "name": "stdout",
          "text": [
            "[[223, 89, 131, 380], [223, 89, 131, 470], [223, 65, 131, 332], [376, 375, 320, 319, 195], [376, 375, 320, 319, 72], [489, 223, 19, 131, 181], [104, 223, 4, 319]]\n"
          ]
        }
      ],
      "source": [
        "onehot_repr=[one_hot(words,voc_size)for words in sent] \n",
        "print(onehot_repr)"
      ]
    },
    {
      "cell_type": "markdown",
      "metadata": {
        "id": "eYG267x40XGF"
      },
      "source": [
        "### Word Embedding Represntation"
      ]
    },
    {
      "cell_type": "code",
      "execution_count": 9,
      "metadata": {
        "id": "wpqPm0tb0XGF"
      },
      "outputs": [],
      "source": [
        "from tensorflow.keras.layers import Embedding\n",
        "from tensorflow.keras.preprocessing.sequence import pad_sequences\n",
        "from tensorflow.keras.models import Sequential"
      ]
    },
    {
      "cell_type": "code",
      "execution_count": 10,
      "metadata": {
        "id": "Rov3GTM00XGG"
      },
      "outputs": [],
      "source": [
        "import numpy as np"
      ]
    },
    {
      "cell_type": "code",
      "execution_count": 11,
      "metadata": {
        "colab": {
          "base_uri": "https://localhost:8080/"
        },
        "id": "8fQLPw6p0XGG",
        "outputId": "e64821ab-9e0f-4ee4-e5ef-457e9682dc92"
      },
      "outputs": [
        {
          "output_type": "stream",
          "name": "stdout",
          "text": [
            "[[  0   0   0   0 223  89 131 380]\n",
            " [  0   0   0   0 223  89 131 470]\n",
            " [  0   0   0   0 223  65 131 332]\n",
            " [  0   0   0 376 375 320 319 195]\n",
            " [  0   0   0 376 375 320 319  72]\n",
            " [  0   0   0 489 223  19 131 181]\n",
            " [  0   0   0   0 104 223   4 319]]\n"
          ]
        }
      ],
      "source": [
        "## pre padding\n",
        "sent_length=8\n",
        "embedded_docs=pad_sequences(onehot_repr,padding='pre',maxlen=sent_length)\n",
        "print(embedded_docs)"
      ]
    },
    {
      "cell_type": "code",
      "execution_count": 12,
      "metadata": {
        "id": "yjQqBYac0XGG"
      },
      "outputs": [],
      "source": [
        "## 10 feature dimesnions\n",
        "dim=10\n"
      ]
    },
    {
      "cell_type": "code",
      "execution_count": 13,
      "metadata": {
        "id": "ozC-TXrt0XGG"
      },
      "outputs": [],
      "source": [
        "model=Sequential()\n",
        "model.add(Embedding(voc_size,10,input_length=sent_length))\n",
        "model.compile('adam','mse')"
      ]
    },
    {
      "cell_type": "code",
      "execution_count": 14,
      "metadata": {
        "colab": {
          "base_uri": "https://localhost:8080/"
        },
        "id": "tMNvq-Ji0XGH",
        "outputId": "6b833610-20a5-4541-93aa-4c9fed197cb8"
      },
      "outputs": [
        {
          "output_type": "stream",
          "name": "stdout",
          "text": [
            "Model: \"sequential\"\n",
            "_________________________________________________________________\n",
            " Layer (type)                Output Shape              Param #   \n",
            "=================================================================\n",
            " embedding (Embedding)       (None, 8, 10)             5000      \n",
            "                                                                 \n",
            "=================================================================\n",
            "Total params: 5,000\n",
            "Trainable params: 5,000\n",
            "Non-trainable params: 0\n",
            "_________________________________________________________________\n"
          ]
        }
      ],
      "source": [
        "model.summary()"
      ]
    },
    {
      "cell_type": "code",
      "source": [
        "##'the glass of milk',\n",
        "embedded_docs[0]"
      ],
      "metadata": {
        "colab": {
          "base_uri": "https://localhost:8080/"
        },
        "id": "FC4Ess_FEcb3",
        "outputId": "e02bb42e-8598-4378-e022-d1fc8bf54881"
      },
      "execution_count": 15,
      "outputs": [
        {
          "output_type": "execute_result",
          "data": {
            "text/plain": [
              "array([  0,   0,   0,   0, 223,  89, 131, 380], dtype=int32)"
            ]
          },
          "metadata": {},
          "execution_count": 15
        }
      ]
    },
    {
      "cell_type": "code",
      "source": [
        "model.predict(embedded_docs[0])"
      ],
      "metadata": {
        "colab": {
          "base_uri": "https://localhost:8080/"
        },
        "id": "bRqEvMBYEZUS",
        "outputId": "4eac11aa-173c-4993-d79d-329465e0a58f"
      },
      "execution_count": 16,
      "outputs": [
        {
          "output_type": "stream",
          "name": "stderr",
          "text": [
            "WARNING:tensorflow:Model was constructed with shape (None, 8) for input KerasTensor(type_spec=TensorSpec(shape=(None, 8), dtype=tf.float32, name='embedding_input'), name='embedding_input', description=\"created by layer 'embedding_input'\"), but it was called on an input with incompatible shape (None,).\n"
          ]
        },
        {
          "output_type": "stream",
          "name": "stdout",
          "text": [
            "1/1 [==============================] - 0s 215ms/step\n"
          ]
        },
        {
          "output_type": "execute_result",
          "data": {
            "text/plain": [
              "array([[ 0.00116991, -0.00473101,  0.01906253, -0.02749264,  0.04559976,\n",
              "         0.04431846,  0.00959443,  0.01506522,  0.03441376, -0.04995065],\n",
              "       [ 0.00116991, -0.00473101,  0.01906253, -0.02749264,  0.04559976,\n",
              "         0.04431846,  0.00959443,  0.01506522,  0.03441376, -0.04995065],\n",
              "       [ 0.00116991, -0.00473101,  0.01906253, -0.02749264,  0.04559976,\n",
              "         0.04431846,  0.00959443,  0.01506522,  0.03441376, -0.04995065],\n",
              "       [ 0.00116991, -0.00473101,  0.01906253, -0.02749264,  0.04559976,\n",
              "         0.04431846,  0.00959443,  0.01506522,  0.03441376, -0.04995065],\n",
              "       [-0.03998123, -0.0465714 , -0.04351636, -0.03433656,  0.02199147,\n",
              "         0.04985905,  0.03062903, -0.03597549, -0.00512433,  0.007722  ],\n",
              "       [ 0.01476559, -0.0056456 ,  0.00956402, -0.00916693,  0.01861245,\n",
              "         0.04169917,  0.01886079,  0.00286136, -0.01458663,  0.00568823],\n",
              "       [ 0.00310203, -0.019775  , -0.02045685,  0.03055472, -0.01120303,\n",
              "        -0.03369068,  0.01876106, -0.03203984, -0.03108386, -0.04917796],\n",
              "       [ 0.03529928,  0.01686594,  0.03513077,  0.03977809,  0.04433146,\n",
              "        -0.00989125,  0.0098954 ,  0.04087133,  0.02176727, -0.0472788 ]],\n",
              "      dtype=float32)"
            ]
          },
          "metadata": {},
          "execution_count": 16
        }
      ]
    },
    {
      "cell_type": "code",
      "execution_count": 17,
      "metadata": {
        "colab": {
          "base_uri": "https://localhost:8080/"
        },
        "id": "kzKP69gx0XGH",
        "outputId": "d1eb81d4-63bc-44ac-beca-38e7d9706481"
      },
      "outputs": [
        {
          "output_type": "stream",
          "name": "stdout",
          "text": [
            "1/1 [==============================] - 0s 38ms/step\n",
            "[[[ 0.00116991 -0.00473101  0.01906253 -0.02749264  0.04559976\n",
            "    0.04431846  0.00959443  0.01506522  0.03441376 -0.04995065]\n",
            "  [ 0.00116991 -0.00473101  0.01906253 -0.02749264  0.04559976\n",
            "    0.04431846  0.00959443  0.01506522  0.03441376 -0.04995065]\n",
            "  [ 0.00116991 -0.00473101  0.01906253 -0.02749264  0.04559976\n",
            "    0.04431846  0.00959443  0.01506522  0.03441376 -0.04995065]\n",
            "  [ 0.00116991 -0.00473101  0.01906253 -0.02749264  0.04559976\n",
            "    0.04431846  0.00959443  0.01506522  0.03441376 -0.04995065]\n",
            "  [-0.03998123 -0.0465714  -0.04351636 -0.03433656  0.02199147\n",
            "    0.04985905  0.03062903 -0.03597549 -0.00512433  0.007722  ]\n",
            "  [ 0.01476559 -0.0056456   0.00956402 -0.00916693  0.01861245\n",
            "    0.04169917  0.01886079  0.00286136 -0.01458663  0.00568823]\n",
            "  [ 0.00310203 -0.019775   -0.02045685  0.03055472 -0.01120303\n",
            "   -0.03369068  0.01876106 -0.03203984 -0.03108386 -0.04917796]\n",
            "  [ 0.03529928  0.01686594  0.03513077  0.03977809  0.04433146\n",
            "   -0.00989125  0.0098954   0.04087133  0.02176727 -0.0472788 ]]\n",
            "\n",
            " [[ 0.00116991 -0.00473101  0.01906253 -0.02749264  0.04559976\n",
            "    0.04431846  0.00959443  0.01506522  0.03441376 -0.04995065]\n",
            "  [ 0.00116991 -0.00473101  0.01906253 -0.02749264  0.04559976\n",
            "    0.04431846  0.00959443  0.01506522  0.03441376 -0.04995065]\n",
            "  [ 0.00116991 -0.00473101  0.01906253 -0.02749264  0.04559976\n",
            "    0.04431846  0.00959443  0.01506522  0.03441376 -0.04995065]\n",
            "  [ 0.00116991 -0.00473101  0.01906253 -0.02749264  0.04559976\n",
            "    0.04431846  0.00959443  0.01506522  0.03441376 -0.04995065]\n",
            "  [-0.03998123 -0.0465714  -0.04351636 -0.03433656  0.02199147\n",
            "    0.04985905  0.03062903 -0.03597549 -0.00512433  0.007722  ]\n",
            "  [ 0.01476559 -0.0056456   0.00956402 -0.00916693  0.01861245\n",
            "    0.04169917  0.01886079  0.00286136 -0.01458663  0.00568823]\n",
            "  [ 0.00310203 -0.019775   -0.02045685  0.03055472 -0.01120303\n",
            "   -0.03369068  0.01876106 -0.03203984 -0.03108386 -0.04917796]\n",
            "  [ 0.02133384  0.0439495   0.01386416 -0.00107347 -0.02761528\n",
            "   -0.03955394 -0.01249921 -0.02847337 -0.01829392 -0.02337573]]\n",
            "\n",
            " [[ 0.00116991 -0.00473101  0.01906253 -0.02749264  0.04559976\n",
            "    0.04431846  0.00959443  0.01506522  0.03441376 -0.04995065]\n",
            "  [ 0.00116991 -0.00473101  0.01906253 -0.02749264  0.04559976\n",
            "    0.04431846  0.00959443  0.01506522  0.03441376 -0.04995065]\n",
            "  [ 0.00116991 -0.00473101  0.01906253 -0.02749264  0.04559976\n",
            "    0.04431846  0.00959443  0.01506522  0.03441376 -0.04995065]\n",
            "  [ 0.00116991 -0.00473101  0.01906253 -0.02749264  0.04559976\n",
            "    0.04431846  0.00959443  0.01506522  0.03441376 -0.04995065]\n",
            "  [-0.03998123 -0.0465714  -0.04351636 -0.03433656  0.02199147\n",
            "    0.04985905  0.03062903 -0.03597549 -0.00512433  0.007722  ]\n",
            "  [ 0.04413343 -0.02696116  0.02477299 -0.01856651  0.04615569\n",
            "    0.03436002 -0.01770303  0.01983819  0.0388363   0.02042056]\n",
            "  [ 0.00310203 -0.019775   -0.02045685  0.03055472 -0.01120303\n",
            "   -0.03369068  0.01876106 -0.03203984 -0.03108386 -0.04917796]\n",
            "  [-0.00454069  0.00666964 -0.02811557 -0.02702259 -0.00719446\n",
            "   -0.00352577  0.04465629  0.02319193 -0.01036341  0.0004098 ]]\n",
            "\n",
            " [[ 0.00116991 -0.00473101  0.01906253 -0.02749264  0.04559976\n",
            "    0.04431846  0.00959443  0.01506522  0.03441376 -0.04995065]\n",
            "  [ 0.00116991 -0.00473101  0.01906253 -0.02749264  0.04559976\n",
            "    0.04431846  0.00959443  0.01506522  0.03441376 -0.04995065]\n",
            "  [ 0.00116991 -0.00473101  0.01906253 -0.02749264  0.04559976\n",
            "    0.04431846  0.00959443  0.01506522  0.03441376 -0.04995065]\n",
            "  [-0.04788159  0.00099408 -0.04637676 -0.04798209 -0.0034445\n",
            "   -0.0173012   0.03208487  0.0212929   0.01491474 -0.01414007]\n",
            "  [ 0.04501117 -0.00696005 -0.00330491 -0.00628345  0.01457993\n",
            "   -0.03649201  0.00271064 -0.01262686  0.01107031  0.03698652]\n",
            "  [-0.00852014 -0.03447541  0.00954859 -0.01201155 -0.03109822\n",
            "   -0.01657217 -0.03421596 -0.00474177  0.03911031 -0.04426903]\n",
            "  [-0.04115159 -0.00923101 -0.0166756  -0.00941058 -0.02051814\n",
            "    0.04633505 -0.03572387 -0.04853749  0.02601345 -0.03200532]\n",
            "  [-0.01811937 -0.02931591 -0.02291757 -0.04176732  0.03743583\n",
            "    0.04301406  0.00228711  0.0455281  -0.01406261  0.03645772]]\n",
            "\n",
            " [[ 0.00116991 -0.00473101  0.01906253 -0.02749264  0.04559976\n",
            "    0.04431846  0.00959443  0.01506522  0.03441376 -0.04995065]\n",
            "  [ 0.00116991 -0.00473101  0.01906253 -0.02749264  0.04559976\n",
            "    0.04431846  0.00959443  0.01506522  0.03441376 -0.04995065]\n",
            "  [ 0.00116991 -0.00473101  0.01906253 -0.02749264  0.04559976\n",
            "    0.04431846  0.00959443  0.01506522  0.03441376 -0.04995065]\n",
            "  [-0.04788159  0.00099408 -0.04637676 -0.04798209 -0.0034445\n",
            "   -0.0173012   0.03208487  0.0212929   0.01491474 -0.01414007]\n",
            "  [ 0.04501117 -0.00696005 -0.00330491 -0.00628345  0.01457993\n",
            "   -0.03649201  0.00271064 -0.01262686  0.01107031  0.03698652]\n",
            "  [-0.00852014 -0.03447541  0.00954859 -0.01201155 -0.03109822\n",
            "   -0.01657217 -0.03421596 -0.00474177  0.03911031 -0.04426903]\n",
            "  [-0.04115159 -0.00923101 -0.0166756  -0.00941058 -0.02051814\n",
            "    0.04633505 -0.03572387 -0.04853749  0.02601345 -0.03200532]\n",
            "  [-0.01262479 -0.01028577 -0.04496345 -0.02638909  0.00224803\n",
            "    0.04214675 -0.02997094 -0.04413166 -0.01808827  0.01373668]]\n",
            "\n",
            " [[ 0.00116991 -0.00473101  0.01906253 -0.02749264  0.04559976\n",
            "    0.04431846  0.00959443  0.01506522  0.03441376 -0.04995065]\n",
            "  [ 0.00116991 -0.00473101  0.01906253 -0.02749264  0.04559976\n",
            "    0.04431846  0.00959443  0.01506522  0.03441376 -0.04995065]\n",
            "  [ 0.00116991 -0.00473101  0.01906253 -0.02749264  0.04559976\n",
            "    0.04431846  0.00959443  0.01506522  0.03441376 -0.04995065]\n",
            "  [-0.02343481  0.01861353 -0.04792249 -0.00463046  0.01732122\n",
            "   -0.03711978  0.02022405  0.00677476  0.00058239  0.00920752]\n",
            "  [-0.03998123 -0.0465714  -0.04351636 -0.03433656  0.02199147\n",
            "    0.04985905  0.03062903 -0.03597549 -0.00512433  0.007722  ]\n",
            "  [ 0.03235396  0.03641308 -0.03787858  0.02254767 -0.01271822\n",
            "    0.01528119  0.03142918  0.03419069  0.01045451  0.03281737]\n",
            "  [ 0.00310203 -0.019775   -0.02045685  0.03055472 -0.01120303\n",
            "   -0.03369068  0.01876106 -0.03203984 -0.03108386 -0.04917796]\n",
            "  [ 0.02365691 -0.04794599 -0.04357939  0.03364858 -0.00742117\n",
            "    0.01435972 -0.02755712 -0.02178906 -0.02540093 -0.00519841]]\n",
            "\n",
            " [[ 0.00116991 -0.00473101  0.01906253 -0.02749264  0.04559976\n",
            "    0.04431846  0.00959443  0.01506522  0.03441376 -0.04995065]\n",
            "  [ 0.00116991 -0.00473101  0.01906253 -0.02749264  0.04559976\n",
            "    0.04431846  0.00959443  0.01506522  0.03441376 -0.04995065]\n",
            "  [ 0.00116991 -0.00473101  0.01906253 -0.02749264  0.04559976\n",
            "    0.04431846  0.00959443  0.01506522  0.03441376 -0.04995065]\n",
            "  [ 0.00116991 -0.00473101  0.01906253 -0.02749264  0.04559976\n",
            "    0.04431846  0.00959443  0.01506522  0.03441376 -0.04995065]\n",
            "  [-0.00047889 -0.01504647 -0.00157412  0.00677587  0.00559295\n",
            "   -0.03970828  0.00143288  0.04385651 -0.04339783  0.02167111]\n",
            "  [-0.03998123 -0.0465714  -0.04351636 -0.03433656  0.02199147\n",
            "    0.04985905  0.03062903 -0.03597549 -0.00512433  0.007722  ]\n",
            "  [-0.02156373  0.03915247  0.0053247  -0.00237893 -0.00381224\n",
            "   -0.00811217  0.04198244  0.00804267  0.00020571  0.02628628]\n",
            "  [-0.04115159 -0.00923101 -0.0166756  -0.00941058 -0.02051814\n",
            "    0.04633505 -0.03572387 -0.04853749  0.02601345 -0.03200532]]]\n"
          ]
        }
      ],
      "source": [
        "print(model.predict(embedded_docs))"
      ]
    },
    {
      "cell_type": "code",
      "execution_count": 18,
      "metadata": {
        "id": "JuUxfk7d0XGH",
        "outputId": "69a81114-ea6f-427f-cad2-20bbd5925cb2",
        "colab": {
          "base_uri": "https://localhost:8080/"
        }
      },
      "outputs": [
        {
          "output_type": "execute_result",
          "data": {
            "text/plain": [
              "array([  0,   0,   0,   0, 223,  89, 131, 380], dtype=int32)"
            ]
          },
          "metadata": {},
          "execution_count": 18
        }
      ],
      "source": [
        "embedded_docs[0]"
      ]
    },
    {
      "cell_type": "code",
      "execution_count": 19,
      "metadata": {
        "id": "6JJ_zD0u0XGH",
        "outputId": "ce5c2cd0-1b5a-450a-8761-086ce3a658dc",
        "colab": {
          "base_uri": "https://localhost:8080/"
        }
      },
      "outputs": [
        {
          "output_type": "stream",
          "name": "stdout",
          "text": [
            "1/1 [==============================] - 0s 21ms/step\n",
            "[[ 0.00116991 -0.00473101  0.01906253 -0.02749264  0.04559976  0.04431846\n",
            "   0.00959443  0.01506522  0.03441376 -0.04995065]\n",
            " [ 0.00116991 -0.00473101  0.01906253 -0.02749264  0.04559976  0.04431846\n",
            "   0.00959443  0.01506522  0.03441376 -0.04995065]\n",
            " [ 0.00116991 -0.00473101  0.01906253 -0.02749264  0.04559976  0.04431846\n",
            "   0.00959443  0.01506522  0.03441376 -0.04995065]\n",
            " [ 0.00116991 -0.00473101  0.01906253 -0.02749264  0.04559976  0.04431846\n",
            "   0.00959443  0.01506522  0.03441376 -0.04995065]\n",
            " [-0.03998123 -0.0465714  -0.04351636 -0.03433656  0.02199147  0.04985905\n",
            "   0.03062903 -0.03597549 -0.00512433  0.007722  ]\n",
            " [ 0.01476559 -0.0056456   0.00956402 -0.00916693  0.01861245  0.04169917\n",
            "   0.01886079  0.00286136 -0.01458663  0.00568823]\n",
            " [ 0.00310203 -0.019775   -0.02045685  0.03055472 -0.01120303 -0.03369068\n",
            "   0.01876106 -0.03203984 -0.03108386 -0.04917796]\n",
            " [ 0.03529928  0.01686594  0.03513077  0.03977809  0.04433146 -0.00989125\n",
            "   0.0098954   0.04087133  0.02176727 -0.0472788 ]]\n"
          ]
        }
      ],
      "source": [
        "print(model.predict(embedded_docs)[0])"
      ]
    },
    {
      "cell_type": "code",
      "execution_count": 20,
      "metadata": {
        "id": "8OMu3iAz0XGH"
      },
      "outputs": [],
      "source": [
        "### Assignment\n",
        "\n",
        "sent=[\"The world is a better place\",\n",
        "      \"Marvel series is my favourite movie\",\n",
        "      \"I like DC movies\",\n",
        "      \"the cat is eating the food\",\n",
        "      \"Tom and Jerry is my favourite movie\",\n",
        "      \"Python is my favourite programming language\"\n",
        "      ]"
      ]
    },
    {
      "cell_type": "code",
      "source": [],
      "metadata": {
        "id": "E6cLXScKroSM"
      },
      "execution_count": null,
      "outputs": []
    }
  ],
  "metadata": {
    "kernelspec": {
      "display_name": "Python 3",
      "language": "python",
      "name": "python3"
    },
    "language_info": {
      "codemirror_mode": {
        "name": "ipython",
        "version": 3
      },
      "file_extension": ".py",
      "mimetype": "text/x-python",
      "name": "python",
      "nbconvert_exporter": "python",
      "pygments_lexer": "ipython3",
      "version": "3.7.4"
    },
    "colab": {
      "provenance": [],
      "include_colab_link": true
    },
    "accelerator": "GPU",
    "gpuClass": "standard"
  },
  "nbformat": 4,
  "nbformat_minor": 0
}