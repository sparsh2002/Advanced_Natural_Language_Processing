{
  "nbformat": 4,
  "nbformat_minor": 0,
  "metadata": {
    "colab": {
      "provenance": [],
      "authorship_tag": "ABX9TyMPND300BVooidNmzWy+wKG",
      "include_colab_link": true
    },
    "kernelspec": {
      "name": "python3",
      "display_name": "Python 3"
    },
    "language_info": {
      "name": "python"
    },
    "gpuClass": "standard"
  },
  "cells": [
    {
      "cell_type": "markdown",
      "metadata": {
        "id": "view-in-github",
        "colab_type": "text"
      },
      "source": [
        "<a href=\"https://colab.research.google.com/github/sparsh2002/Advanced_Natural_Language_Processing/blob/master/NLP2-TF-IDF.ipynb\" target=\"_parent\"><img src=\"https://colab.research.google.com/assets/colab-badge.svg\" alt=\"Open In Colab\"/></a>"
      ]
    },
    {
      "cell_type": "code",
      "execution_count": 2,
      "metadata": {
        "colab": {
          "base_uri": "https://localhost:8080/"
        },
        "id": "0XJ5_RlTwF1P",
        "outputId": "9e821c12-c3ad-49ca-f7ea-e7cd4be025c3"
      },
      "outputs": [
        {
          "output_type": "stream",
          "name": "stdout",
          "text": [
            "Looking in indexes: https://pypi.org/simple, https://us-python.pkg.dev/colab-wheels/public/simple/\n",
            "Requirement already satisfied: nltk in /usr/local/lib/python3.8/dist-packages (3.7)\n",
            "Requirement already satisfied: click in /usr/local/lib/python3.8/dist-packages (from nltk) (8.1.3)\n",
            "Requirement already satisfied: tqdm in /usr/local/lib/python3.8/dist-packages (from nltk) (4.64.1)\n",
            "Requirement already satisfied: joblib in /usr/local/lib/python3.8/dist-packages (from nltk) (1.2.0)\n",
            "Requirement already satisfied: regex>=2021.8.3 in /usr/local/lib/python3.8/dist-packages (from nltk) (2022.6.2)\n"
          ]
        }
      ],
      "source": [
        "!pip install nltk"
      ]
    },
    {
      "cell_type": "code",
      "source": [
        "paragraph = \"\"\"\n",
        "Narendra Damodardas Modi (Gujarati: [ˈnəɾendɾə dɑmodəɾˈdɑs ˈmodiː] (listen); born 17 September 1950)[b] is an Indian politician serving as the 14th and current Prime Minister of India since 2014. Modi was the Chief Minister of Gujarat from 2001 to 2014 and is the Member of Parliament from Varanasi. He is a member of the Bharatiya Janata Party (BJP) and of the Rashtriya Swayamsevak Sangh (RSS), a right-wing Hindu nationalist paramilitary volunteer organisation. He is the longest serving prime minister from outside the Indian National Congress.\n",
        "\n",
        "Modi was born and raised in Vadnagar in northeastern Gujarat, where he completed his secondary education. He was introduced to the RSS at age eight. He has reminisced about helping out after school at his father's tea stall at the Vadnagar railway station. At age 18, Modi was married to Jashodaben Chimanlal Modi, whom he abandoned soon after. He first publicly acknowledged her as his wife more than four decades later when required to do so by Indian law, but has made no contact with her since. Modi has asserted he had travelled in northern India for two years after leaving his parental home, visiting a number of religious centres, but few details of his travels have emerged. Upon his return to Gujarat in 1971, he became a full-time worker for the RSS. After the state of emergency was declared by prime minister Indira Gandhi in 1975, Modi went into hiding. The RSS assigned him to the BJP in 1985 and he held several positions within the party hierarchy until 2001, rising to the rank of general secretary.[c] \n",
        "\"\"\""
      ],
      "metadata": {
        "id": "6gXUrKCswJIZ"
      },
      "execution_count": 3,
      "outputs": []
    },
    {
      "cell_type": "code",
      "source": [
        "paragraph"
      ],
      "metadata": {
        "colab": {
          "base_uri": "https://localhost:8080/",
          "height": 146
        },
        "id": "ACRbilQuwgyC",
        "outputId": "b0d11060-7cef-4fd1-bbe4-f301fc68a677"
      },
      "execution_count": 4,
      "outputs": [
        {
          "output_type": "execute_result",
          "data": {
            "text/plain": [
              "\"\\nNarendra Damodardas Modi (Gujarati: [ˈnəɾendɾə dɑmodəɾˈdɑs ˈmodiː] (listen); born 17 September 1950)[b] is an Indian politician serving as the 14th and current Prime Minister of India since 2014. Modi was the Chief Minister of Gujarat from 2001 to 2014 and is the Member of Parliament from Varanasi. He is a member of the Bharatiya Janata Party (BJP) and of the Rashtriya Swayamsevak Sangh (RSS), a right-wing Hindu nationalist paramilitary volunteer organisation. He is the longest serving prime minister from outside the Indian National Congress.\\n\\nModi was born and raised in Vadnagar in northeastern Gujarat, where he completed his secondary education. He was introduced to the RSS at age eight. He has reminisced about helping out after school at his father's tea stall at the Vadnagar railway station. At age 18, Modi was married to Jashodaben Chimanlal Modi, whom he abandoned soon after. He first publicly acknowledged her as his wife more than four decades later when required to do so by Indian law, but has made no contact with her since. Modi has asserted he had travelled in northern India for two years after leaving his parental home, visiting a number of religious centres, but few details of his travels have emerged. Upon his return to Gujarat in 1971, he became a full-time worker for the RSS. After the state of emergency was declared by prime minister Indira Gandhi in 1975, Modi went into hiding. The RSS assigned him to the BJP in 1985 and he held several positions within the party hierarchy until 2001, rising to the rank of general secretary.[c] \\n\""
            ],
            "application/vnd.google.colaboratory.intrinsic+json": {
              "type": "string"
            }
          },
          "metadata": {},
          "execution_count": 4
        }
      ]
    },
    {
      "cell_type": "code",
      "source": [
        "import nltk \n",
        "from nltk.stem import PorterStemmer\n",
        "from nltk.corpus import stopwords"
      ],
      "metadata": {
        "id": "g-6bCiRQwiAx"
      },
      "execution_count": 5,
      "outputs": []
    },
    {
      "cell_type": "code",
      "source": [
        "## tokenization  \n",
        "nltk.download('punkt')\n",
        "sentences = nltk.sent_tokenize(paragraph)"
      ],
      "metadata": {
        "colab": {
          "base_uri": "https://localhost:8080/"
        },
        "id": "Pc5x3OA-w1YD",
        "outputId": "a54bbe13-6cbb-4dac-fbb7-82c6519005e2"
      },
      "execution_count": 6,
      "outputs": [
        {
          "output_type": "stream",
          "name": "stderr",
          "text": [
            "[nltk_data] Downloading package punkt to /root/nltk_data...\n",
            "[nltk_data]   Unzipping tokenizers/punkt.zip.\n"
          ]
        }
      ]
    },
    {
      "cell_type": "code",
      "source": [
        "sentences"
      ],
      "metadata": {
        "colab": {
          "base_uri": "https://localhost:8080/"
        },
        "id": "E2peaUlsxMNE",
        "outputId": "b24469ec-ded5-4be1-b27d-93393c898390"
      },
      "execution_count": 7,
      "outputs": [
        {
          "output_type": "execute_result",
          "data": {
            "text/plain": [
              "['\\nNarendra Damodardas Modi (Gujarati: [ˈnəɾendɾə dɑmodəɾˈdɑs ˈmodiː] (listen); born 17 September 1950)[b] is an Indian politician serving as the 14th and current Prime Minister of India since 2014.',\n",
              " 'Modi was the Chief Minister of Gujarat from 2001 to 2014 and is the Member of Parliament from Varanasi.',\n",
              " 'He is a member of the Bharatiya Janata Party (BJP) and of the Rashtriya Swayamsevak Sangh (RSS), a right-wing Hindu nationalist paramilitary volunteer organisation.',\n",
              " 'He is the longest serving prime minister from outside the Indian National Congress.',\n",
              " 'Modi was born and raised in Vadnagar in northeastern Gujarat, where he completed his secondary education.',\n",
              " 'He was introduced to the RSS at age eight.',\n",
              " \"He has reminisced about helping out after school at his father's tea stall at the Vadnagar railway station.\",\n",
              " 'At age 18, Modi was married to Jashodaben Chimanlal Modi, whom he abandoned soon after.',\n",
              " 'He first publicly acknowledged her as his wife more than four decades later when required to do so by Indian law, but has made no contact with her since.',\n",
              " 'Modi has asserted he had travelled in northern India for two years after leaving his parental home, visiting a number of religious centres, but few details of his travels have emerged.',\n",
              " 'Upon his return to Gujarat in 1971, he became a full-time worker for the RSS.',\n",
              " 'After the state of emergency was declared by prime minister Indira Gandhi in 1975, Modi went into hiding.',\n",
              " 'The RSS assigned him to the BJP in 1985 and he held several positions within the party hierarchy until 2001, rising to the rank of general secretary.',\n",
              " '[c]']"
            ]
          },
          "metadata": {},
          "execution_count": 7
        }
      ]
    },
    {
      "cell_type": "code",
      "source": [
        "stemmer = PorterStemmer()"
      ],
      "metadata": {
        "id": "lnjmnaQVxVzb"
      },
      "execution_count": 8,
      "outputs": []
    },
    {
      "cell_type": "code",
      "source": [
        "stemmer.stem('thinking')"
      ],
      "metadata": {
        "colab": {
          "base_uri": "https://localhost:8080/",
          "height": 36
        },
        "id": "HLuvcHvdxpT1",
        "outputId": "617d0838-95e5-46e0-aaa3-a365e2940cc3"
      },
      "execution_count": 9,
      "outputs": [
        {
          "output_type": "execute_result",
          "data": {
            "text/plain": [
              "'think'"
            ],
            "application/vnd.google.colaboratory.intrinsic+json": {
              "type": "string"
            }
          },
          "metadata": {},
          "execution_count": 9
        }
      ]
    },
    {
      "cell_type": "code",
      "source": [
        "from nltk.stem import WordNetLemmatizer\n",
        "nltk.download('wordnet')\n",
        "nltk.download('omw-1.4')"
      ],
      "metadata": {
        "colab": {
          "base_uri": "https://localhost:8080/"
        },
        "id": "QzzntOOwxsQ0",
        "outputId": "c204e91e-725a-474d-c0a5-f047cacc4948"
      },
      "execution_count": 10,
      "outputs": [
        {
          "output_type": "stream",
          "name": "stderr",
          "text": [
            "[nltk_data] Downloading package wordnet to /root/nltk_data...\n",
            "[nltk_data] Downloading package omw-1.4 to /root/nltk_data...\n"
          ]
        },
        {
          "output_type": "execute_result",
          "data": {
            "text/plain": [
              "True"
            ]
          },
          "metadata": {},
          "execution_count": 10
        }
      ]
    },
    {
      "cell_type": "code",
      "source": [
        "lemmatizer = WordNetLemmatizer()"
      ],
      "metadata": {
        "id": "HbnbJqJgyR4K"
      },
      "execution_count": 11,
      "outputs": []
    },
    {
      "cell_type": "code",
      "source": [
        "lemmatizer.lemmatize('drinking')"
      ],
      "metadata": {
        "colab": {
          "base_uri": "https://localhost:8080/",
          "height": 36
        },
        "id": "xkgn71bQyX5Z",
        "outputId": "1a32d23e-c354-4023-c64a-34dd3df2bacf"
      },
      "execution_count": 12,
      "outputs": [
        {
          "output_type": "execute_result",
          "data": {
            "text/plain": [
              "'drinking'"
            ],
            "application/vnd.google.colaboratory.intrinsic+json": {
              "type": "string"
            }
          },
          "metadata": {},
          "execution_count": 12
        }
      ]
    },
    {
      "cell_type": "code",
      "source": [
        "import re\n",
        "corpus = []\n",
        "\n",
        "for i in range(len(sentences)):\n",
        "  review = re.sub('[^a-zA-z]' , ' ' , sentences[i])\n",
        "  review.lower()\n",
        "  review.split()\n",
        "  corpus.append(review)"
      ],
      "metadata": {
        "id": "LKmx66o2yePJ"
      },
      "execution_count": 13,
      "outputs": []
    },
    {
      "cell_type": "code",
      "source": [
        "corpus"
      ],
      "metadata": {
        "colab": {
          "base_uri": "https://localhost:8080/"
        },
        "id": "09xGGQu7zov3",
        "outputId": "eee564a4-7e98-4e32-f6a7-e507c4e7cb86"
      },
      "execution_count": 14,
      "outputs": [
        {
          "output_type": "execute_result",
          "data": {
            "text/plain": [
              "[' Narendra Damodardas Modi  Gujarati  [ n  end   d mod   d s  modi ]  listen   born    September      [b] is an Indian politician serving as the   th and current Prime Minister of India since      ',\n",
              " 'Modi was the Chief Minister of Gujarat from      to      and is the Member of Parliament from Varanasi ',\n",
              " 'He is a member of the Bharatiya Janata Party  BJP  and of the Rashtriya Swayamsevak Sangh  RSS   a right wing Hindu nationalist paramilitary volunteer organisation ',\n",
              " 'He is the longest serving prime minister from outside the Indian National Congress ',\n",
              " 'Modi was born and raised in Vadnagar in northeastern Gujarat  where he completed his secondary education ',\n",
              " 'He was introduced to the RSS at age eight ',\n",
              " 'He has reminisced about helping out after school at his father s tea stall at the Vadnagar railway station ',\n",
              " 'At age     Modi was married to Jashodaben Chimanlal Modi  whom he abandoned soon after ',\n",
              " 'He first publicly acknowledged her as his wife more than four decades later when required to do so by Indian law  but has made no contact with her since ',\n",
              " 'Modi has asserted he had travelled in northern India for two years after leaving his parental home  visiting a number of religious centres  but few details of his travels have emerged ',\n",
              " 'Upon his return to Gujarat in       he became a full time worker for the RSS ',\n",
              " 'After the state of emergency was declared by prime minister Indira Gandhi in       Modi went into hiding ',\n",
              " 'The RSS assigned him to the BJP in      and he held several positions within the party hierarchy until       rising to the rank of general secretary ',\n",
              " '[c]']"
            ]
          },
          "metadata": {},
          "execution_count": 14
        }
      ]
    },
    {
      "cell_type": "code",
      "source": [
        "## stemming\n",
        "nltk.download('stopwords')\n",
        "for i in corpus:\n",
        "  words = nltk.word_tokenize(i)\n",
        "  for word in words:\n",
        "    if word not in set(stopwords.words('english')):\n",
        "      print(stemmer.stem(word))"
      ],
      "metadata": {
        "colab": {
          "base_uri": "https://localhost:8080/"
        },
        "id": "efmdtj3rzrG9",
        "outputId": "e0a371d1-3554-44e0-88da-46b02b7f3553"
      },
      "execution_count": 17,
      "outputs": [
        {
          "output_type": "stream",
          "name": "stdout",
          "text": [
            "narendra\n",
            "damodarda\n",
            "modi\n",
            "gujarati\n",
            "[\n",
            "n\n",
            "end\n",
            "mod\n",
            "modi\n",
            "]\n",
            "listen\n",
            "born\n",
            "septemb\n",
            "[\n",
            "b\n",
            "]\n",
            "indian\n",
            "politician\n",
            "serv\n",
            "th\n",
            "current\n",
            "prime\n",
            "minist\n",
            "india\n",
            "sinc\n",
            "modi\n",
            "chief\n",
            "minist\n",
            "gujarat\n",
            "member\n",
            "parliament\n",
            "varanasi\n",
            "he\n",
            "member\n",
            "bharatiya\n",
            "janata\n",
            "parti\n",
            "bjp\n",
            "rashtriya\n",
            "swayamsevak\n",
            "sangh\n",
            "rss\n",
            "right\n",
            "wing\n",
            "hindu\n",
            "nationalist\n",
            "paramilitari\n",
            "volunt\n",
            "organis\n",
            "he\n",
            "longest\n",
            "serv\n",
            "prime\n",
            "minist\n",
            "outsid\n",
            "indian\n",
            "nation\n",
            "congress\n",
            "modi\n",
            "born\n",
            "rais\n",
            "vadnagar\n",
            "northeastern\n",
            "gujarat\n",
            "complet\n",
            "secondari\n",
            "educ\n",
            "he\n",
            "introduc\n",
            "rss\n",
            "age\n",
            "eight\n",
            "he\n",
            "reminisc\n",
            "help\n",
            "school\n",
            "father\n",
            "tea\n",
            "stall\n",
            "vadnagar\n",
            "railway\n",
            "station\n",
            "at\n",
            "age\n",
            "modi\n",
            "marri\n",
            "jashodaben\n",
            "chimanl\n",
            "modi\n",
            "abandon\n",
            "soon\n",
            "he\n",
            "first\n",
            "publicli\n",
            "acknowledg\n",
            "wife\n",
            "four\n",
            "decad\n",
            "later\n",
            "requir\n",
            "indian\n",
            "law\n",
            "made\n",
            "contact\n",
            "sinc\n",
            "modi\n",
            "assert\n",
            "travel\n",
            "northern\n",
            "india\n",
            "two\n",
            "year\n",
            "leav\n",
            "parent\n",
            "home\n",
            "visit\n",
            "number\n",
            "religi\n",
            "centr\n",
            "detail\n",
            "travel\n",
            "emerg\n",
            "upon\n",
            "return\n",
            "gujarat\n",
            "becam\n",
            "full\n",
            "time\n",
            "worker\n",
            "rss\n",
            "after\n",
            "state\n",
            "emerg\n",
            "declar\n",
            "prime\n",
            "minist\n",
            "indira\n",
            "gandhi\n",
            "modi\n",
            "went\n",
            "hide\n",
            "the\n",
            "rss\n",
            "assign\n",
            "bjp\n",
            "held\n",
            "sever\n",
            "posit\n",
            "within\n",
            "parti\n",
            "hierarchi\n",
            "rise\n",
            "rank\n",
            "gener\n",
            "secretari\n",
            "[\n",
            "c\n",
            "]\n"
          ]
        },
        {
          "output_type": "stream",
          "name": "stderr",
          "text": [
            "[nltk_data] Downloading package stopwords to /root/nltk_data...\n",
            "[nltk_data]   Unzipping corpora/stopwords.zip.\n"
          ]
        }
      ]
    },
    {
      "cell_type": "code",
      "source": [
        "## Lemmatization\n",
        "for i in corpus:\n",
        "  words = nltk.word_tokenize(i)\n",
        "  for word in words:\n",
        "    if word not in set(stopwords.words('english')):\n",
        "      print(lemmatizer.lemmatize(word))"
      ],
      "metadata": {
        "colab": {
          "base_uri": "https://localhost:8080/"
        },
        "id": "PgTo93sEmRQf",
        "outputId": "46c556e8-b26a-493a-8c07-51d047637266"
      },
      "execution_count": 18,
      "outputs": [
        {
          "output_type": "stream",
          "name": "stdout",
          "text": [
            "Narendra\n",
            "Damodardas\n",
            "Modi\n",
            "Gujarati\n",
            "[\n",
            "n\n",
            "end\n",
            "mod\n",
            "modi\n",
            "]\n",
            "listen\n",
            "born\n",
            "September\n",
            "[\n",
            "b\n",
            "]\n",
            "Indian\n",
            "politician\n",
            "serving\n",
            "th\n",
            "current\n",
            "Prime\n",
            "Minister\n",
            "India\n",
            "since\n",
            "Modi\n",
            "Chief\n",
            "Minister\n",
            "Gujarat\n",
            "Member\n",
            "Parliament\n",
            "Varanasi\n",
            "He\n",
            "member\n",
            "Bharatiya\n",
            "Janata\n",
            "Party\n",
            "BJP\n",
            "Rashtriya\n",
            "Swayamsevak\n",
            "Sangh\n",
            "RSS\n",
            "right\n",
            "wing\n",
            "Hindu\n",
            "nationalist\n",
            "paramilitary\n",
            "volunteer\n",
            "organisation\n",
            "He\n",
            "longest\n",
            "serving\n",
            "prime\n",
            "minister\n",
            "outside\n",
            "Indian\n",
            "National\n",
            "Congress\n",
            "Modi\n",
            "born\n",
            "raised\n",
            "Vadnagar\n",
            "northeastern\n",
            "Gujarat\n",
            "completed\n",
            "secondary\n",
            "education\n",
            "He\n",
            "introduced\n",
            "RSS\n",
            "age\n",
            "eight\n",
            "He\n",
            "reminisced\n",
            "helping\n",
            "school\n",
            "father\n",
            "tea\n",
            "stall\n",
            "Vadnagar\n",
            "railway\n",
            "station\n",
            "At\n",
            "age\n",
            "Modi\n",
            "married\n",
            "Jashodaben\n",
            "Chimanlal\n",
            "Modi\n",
            "abandoned\n",
            "soon\n",
            "He\n",
            "first\n",
            "publicly\n",
            "acknowledged\n",
            "wife\n",
            "four\n",
            "decade\n",
            "later\n",
            "required\n",
            "Indian\n",
            "law\n",
            "made\n",
            "contact\n",
            "since\n",
            "Modi\n",
            "asserted\n",
            "travelled\n",
            "northern\n",
            "India\n",
            "two\n",
            "year\n",
            "leaving\n",
            "parental\n",
            "home\n",
            "visiting\n",
            "number\n",
            "religious\n",
            "centre\n",
            "detail\n",
            "travel\n",
            "emerged\n",
            "Upon\n",
            "return\n",
            "Gujarat\n",
            "became\n",
            "full\n",
            "time\n",
            "worker\n",
            "RSS\n",
            "After\n",
            "state\n",
            "emergency\n",
            "declared\n",
            "prime\n",
            "minister\n",
            "Indira\n",
            "Gandhi\n",
            "Modi\n",
            "went\n",
            "hiding\n",
            "The\n",
            "RSS\n",
            "assigned\n",
            "BJP\n",
            "held\n",
            "several\n",
            "position\n",
            "within\n",
            "party\n",
            "hierarchy\n",
            "rising\n",
            "rank\n",
            "general\n",
            "secretary\n",
            "[\n",
            "c\n",
            "]\n"
          ]
        }
      ]
    },
    {
      "cell_type": "code",
      "source": [
        "## Apply Stopswords. Lemmatize\n",
        "import re\n",
        "corpus = []\n",
        "for i in range(len(sentences)):\n",
        "    review = re.sub('[^a-zA-Z]', ' ', sentences[i])\n",
        "    review = review.lower()\n",
        "    review = review.split()\n",
        "    review = [lemmatizer.lemmatize(word) for word in review if not word in set(stopwords.words('english'))]\n",
        "    review = ' '.join(review)\n",
        "    corpus.append(review)"
      ],
      "metadata": {
        "id": "VegQjyOLqUCM"
      },
      "execution_count": 29,
      "outputs": []
    },
    {
      "cell_type": "code",
      "source": [
        "from sklearn.feature_extraction.text import CountVectorizer\n",
        "cv = CountVectorizer(binary=True ,ngram_range = (2 , 3))"
      ],
      "metadata": {
        "id": "S9G2iGQJm0td"
      },
      "execution_count": 38,
      "outputs": []
    },
    {
      "cell_type": "code",
      "source": [
        "X = cv.fit_transform(corpus)"
      ],
      "metadata": {
        "id": "0d5V25d9nBav"
      },
      "execution_count": 39,
      "outputs": []
    },
    {
      "cell_type": "code",
      "source": [
        "cv.vocabulary_"
      ],
      "metadata": {
        "colab": {
          "base_uri": "https://localhost:8080/"
        },
        "id": "zmVoFOGEnItW",
        "outputId": "21f0561d-35be-413a-cb7a-91cb9325a4d8"
      },
      "execution_count": 40,
      "outputs": [
        {
          "output_type": "execute_result",
          "data": {
            "text/plain": [
              "{'narendra damodardas': 135,\n",
              " 'damodardas modi': 33,\n",
              " 'modi gujarati': 127,\n",
              " 'gujarati end': 62,\n",
              " 'end mod': 43,\n",
              " 'mod modi': 117,\n",
              " 'modi listen': 129,\n",
              " 'listen born': 97,\n",
              " 'born september': 20,\n",
              " 'september indian': 191,\n",
              " 'indian politician': 81,\n",
              " 'politician serving': 157,\n",
              " 'serving th': 195,\n",
              " 'th current': 207,\n",
              " 'current prime': 31,\n",
              " 'prime minister': 161,\n",
              " 'minister india': 111,\n",
              " 'india since': 74,\n",
              " 'narendra damodardas modi': 136,\n",
              " 'damodardas modi gujarati': 34,\n",
              " 'modi gujarati end': 128,\n",
              " 'gujarati end mod': 63,\n",
              " 'end mod modi': 44,\n",
              " 'mod modi listen': 118,\n",
              " 'modi listen born': 130,\n",
              " 'listen born september': 98,\n",
              " 'born september indian': 21,\n",
              " 'september indian politician': 192,\n",
              " 'indian politician serving': 82,\n",
              " 'politician serving th': 158,\n",
              " 'serving th current': 196,\n",
              " 'th current prime': 208,\n",
              " 'current prime minister': 32,\n",
              " 'prime minister india': 162,\n",
              " 'minister india since': 112,\n",
              " 'modi chief': 125,\n",
              " 'chief minister': 24,\n",
              " 'minister gujarat': 109,\n",
              " 'gujarat member': 60,\n",
              " 'member parliament': 107,\n",
              " 'parliament varanasi': 152,\n",
              " 'modi chief minister': 126,\n",
              " 'chief minister gujarat': 25,\n",
              " 'minister gujarat member': 110,\n",
              " 'gujarat member parliament': 61,\n",
              " 'member parliament varanasi': 108,\n",
              " 'member bharatiya': 105,\n",
              " 'bharatiya janata': 12,\n",
              " 'janata party': 87,\n",
              " 'party bjp': 153,\n",
              " 'bjp rashtriya': 16,\n",
              " 'rashtriya swayamsevak': 172,\n",
              " 'swayamsevak sangh': 203,\n",
              " 'sangh right': 186,\n",
              " 'right wing': 182,\n",
              " 'wing hindu': 227,\n",
              " 'hindu nationalist': 70,\n",
              " 'nationalist paramilitary': 138,\n",
              " 'paramilitary volunteer': 148,\n",
              " 'volunteer organisation': 223,\n",
              " 'member bharatiya janata': 106,\n",
              " 'bharatiya janata party': 13,\n",
              " 'janata party bjp': 88,\n",
              " 'party bjp rashtriya': 154,\n",
              " 'bjp rashtriya swayamsevak': 17,\n",
              " 'rashtriya swayamsevak sangh': 173,\n",
              " 'swayamsevak sangh right': 204,\n",
              " 'sangh right wing': 187,\n",
              " 'right wing hindu': 183,\n",
              " 'wing hindu nationalist': 228,\n",
              " 'hindu nationalist paramilitary': 71,\n",
              " 'nationalist paramilitary volunteer': 139,\n",
              " 'paramilitary volunteer organisation': 149,\n",
              " 'longest serving': 99,\n",
              " 'serving prime': 193,\n",
              " 'minister outside': 115,\n",
              " 'outside indian': 146,\n",
              " 'indian national': 79,\n",
              " 'national congress': 137,\n",
              " 'longest serving prime': 100,\n",
              " 'serving prime minister': 194,\n",
              " 'prime minister outside': 164,\n",
              " 'minister outside indian': 116,\n",
              " 'outside indian national': 147,\n",
              " 'indian national congress': 80,\n",
              " 'modi born': 123,\n",
              " 'born raised': 18,\n",
              " 'raised vadnagar': 168,\n",
              " 'vadnagar northeastern': 217,\n",
              " 'northeastern gujarat': 140,\n",
              " 'gujarat completed': 58,\n",
              " 'completed secondary': 28,\n",
              " 'secondary education': 190,\n",
              " 'modi born raised': 124,\n",
              " 'born raised vadnagar': 19,\n",
              " 'raised vadnagar northeastern': 169,\n",
              " 'vadnagar northeastern gujarat': 218,\n",
              " 'northeastern gujarat completed': 141,\n",
              " 'gujarat completed secondary': 59,\n",
              " 'completed secondary education': 29,\n",
              " 'introduced age': 85,\n",
              " 'age eight': 3,\n",
              " 'introduced age eight': 86,\n",
              " 'reminisced helping': 176,\n",
              " 'helping school': 66,\n",
              " 'school father': 188,\n",
              " 'father tea': 45,\n",
              " 'tea stall': 205,\n",
              " 'stall vadnagar': 199,\n",
              " 'vadnagar railway': 219,\n",
              " 'railway station': 167,\n",
              " 'reminisced helping school': 177,\n",
              " 'helping school father': 67,\n",
              " 'school father tea': 189,\n",
              " 'father tea stall': 46,\n",
              " 'tea stall vadnagar': 206,\n",
              " 'stall vadnagar railway': 200,\n",
              " 'vadnagar railway station': 220,\n",
              " 'age modi': 4,\n",
              " 'modi married': 131,\n",
              " 'married jashodaben': 103,\n",
              " 'jashodaben chimanlal': 89,\n",
              " 'chimanlal modi': 26,\n",
              " 'modi abandoned': 119,\n",
              " 'abandoned soon': 0,\n",
              " 'age modi married': 5,\n",
              " 'modi married jashodaben': 132,\n",
              " 'married jashodaben chimanlal': 104,\n",
              " 'jashodaben chimanlal modi': 90,\n",
              " 'chimanlal modi abandoned': 27,\n",
              " 'modi abandoned soon': 120,\n",
              " 'first publicly': 47,\n",
              " 'publicly acknowledged': 165,\n",
              " 'acknowledged wife': 1,\n",
              " 'wife four': 225,\n",
              " 'four decade': 49,\n",
              " 'decade later': 35,\n",
              " 'later required': 91,\n",
              " 'required indian': 178,\n",
              " 'indian law': 77,\n",
              " 'law made': 93,\n",
              " 'made contact': 101,\n",
              " 'contact since': 30,\n",
              " 'first publicly acknowledged': 48,\n",
              " 'publicly acknowledged wife': 166,\n",
              " 'acknowledged wife four': 2,\n",
              " 'wife four decade': 226,\n",
              " 'four decade later': 50,\n",
              " 'decade later required': 36,\n",
              " 'later required indian': 92,\n",
              " 'required indian law': 179,\n",
              " 'indian law made': 78,\n",
              " 'law made contact': 94,\n",
              " 'made contact since': 102,\n",
              " 'modi asserted': 121,\n",
              " 'asserted travelled': 6,\n",
              " 'travelled northern': 211,\n",
              " 'northern india': 142,\n",
              " 'india two': 75,\n",
              " 'two year': 213,\n",
              " 'year leaving': 231,\n",
              " 'leaving parental': 95,\n",
              " 'parental home': 150,\n",
              " 'home visiting': 72,\n",
              " 'visiting number': 221,\n",
              " 'number religious': 144,\n",
              " 'religious centre': 174,\n",
              " 'centre detail': 22,\n",
              " 'detail travel': 39,\n",
              " 'travel emerged': 210,\n",
              " 'modi asserted travelled': 122,\n",
              " 'asserted travelled northern': 7,\n",
              " 'travelled northern india': 212,\n",
              " 'northern india two': 143,\n",
              " 'india two year': 76,\n",
              " 'two year leaving': 214,\n",
              " 'year leaving parental': 232,\n",
              " 'leaving parental home': 96,\n",
              " 'parental home visiting': 151,\n",
              " 'home visiting number': 73,\n",
              " 'visiting number religious': 222,\n",
              " 'number religious centre': 145,\n",
              " 'religious centre detail': 175,\n",
              " 'centre detail travel': 23,\n",
              " 'detail travel emerged': 40,\n",
              " 'upon return': 215,\n",
              " 'return gujarat': 180,\n",
              " 'gujarat became': 56,\n",
              " 'became full': 10,\n",
              " 'full time': 51,\n",
              " 'time worker': 209,\n",
              " 'upon return gujarat': 216,\n",
              " 'return gujarat became': 181,\n",
              " 'gujarat became full': 57,\n",
              " 'became full time': 11,\n",
              " 'full time worker': 52,\n",
              " 'state emergency': 201,\n",
              " 'emergency declared': 41,\n",
              " 'declared prime': 37,\n",
              " 'minister indira': 113,\n",
              " 'indira gandhi': 83,\n",
              " 'gandhi modi': 53,\n",
              " 'modi went': 133,\n",
              " 'went hiding': 224,\n",
              " 'state emergency declared': 202,\n",
              " 'emergency declared prime': 42,\n",
              " 'declared prime minister': 38,\n",
              " 'prime minister indira': 163,\n",
              " 'minister indira gandhi': 114,\n",
              " 'indira gandhi modi': 84,\n",
              " 'gandhi modi went': 54,\n",
              " 'modi went hiding': 134,\n",
              " 'assigned bjp': 8,\n",
              " 'bjp held': 14,\n",
              " 'held several': 64,\n",
              " 'several position': 197,\n",
              " 'position within': 159,\n",
              " 'within party': 229,\n",
              " 'party hierarchy': 155,\n",
              " 'hierarchy rising': 68,\n",
              " 'rising rank': 184,\n",
              " 'rank general': 170,\n",
              " 'general secretary': 55,\n",
              " 'assigned bjp held': 9,\n",
              " 'bjp held several': 15,\n",
              " 'held several position': 65,\n",
              " 'several position within': 198,\n",
              " 'position within party': 160,\n",
              " 'within party hierarchy': 230,\n",
              " 'party hierarchy rising': 156,\n",
              " 'hierarchy rising rank': 69,\n",
              " 'rising rank general': 185,\n",
              " 'rank general secretary': 171}"
            ]
          },
          "metadata": {},
          "execution_count": 40
        }
      ]
    },
    {
      "cell_type": "code",
      "source": [
        "corpus[0]"
      ],
      "metadata": {
        "colab": {
          "base_uri": "https://localhost:8080/",
          "height": 36
        },
        "id": "IVviVSIunOJs",
        "outputId": "29c5582f-0928-4640-b56f-385ef5a1bdf8"
      },
      "execution_count": 41,
      "outputs": [
        {
          "output_type": "execute_result",
          "data": {
            "text/plain": [
              "'narendra damodardas modi gujarati n end mod modi listen born september b indian politician serving th current prime minister india since'"
            ],
            "application/vnd.google.colaboratory.intrinsic+json": {
              "type": "string"
            }
          },
          "metadata": {},
          "execution_count": 41
        }
      ]
    },
    {
      "cell_type": "code",
      "source": [
        "X[0].toarray()"
      ],
      "metadata": {
        "colab": {
          "base_uri": "https://localhost:8080/"
        },
        "id": "mAFQuX0EnVGE",
        "outputId": "71bbf554-fcbd-437a-ff35-6db9ef06d491"
      },
      "execution_count": 42,
      "outputs": [
        {
          "output_type": "execute_result",
          "data": {
            "text/plain": [
              "array([[0, 0, 0, 0, 0, 0, 0, 0, 0, 0, 0, 0, 0, 0, 0, 0, 0, 0, 0, 0, 1, 1,\n",
              "        0, 0, 0, 0, 0, 0, 0, 0, 0, 1, 1, 1, 1, 0, 0, 0, 0, 0, 0, 0, 0, 1,\n",
              "        1, 0, 0, 0, 0, 0, 0, 0, 0, 0, 0, 0, 0, 0, 0, 0, 0, 0, 1, 1, 0, 0,\n",
              "        0, 0, 0, 0, 0, 0, 0, 0, 1, 0, 0, 0, 0, 0, 0, 1, 1, 0, 0, 0, 0, 0,\n",
              "        0, 0, 0, 0, 0, 0, 0, 0, 0, 1, 1, 0, 0, 0, 0, 0, 0, 0, 0, 0, 0, 0,\n",
              "        0, 1, 1, 0, 0, 0, 0, 1, 1, 0, 0, 0, 0, 0, 0, 0, 0, 1, 1, 1, 1, 0,\n",
              "        0, 0, 0, 1, 1, 0, 0, 0, 0, 0, 0, 0, 0, 0, 0, 0, 0, 0, 0, 0, 0, 0,\n",
              "        0, 0, 0, 1, 1, 0, 0, 1, 1, 0, 0, 0, 0, 0, 0, 0, 0, 0, 0, 0, 0, 0,\n",
              "        0, 0, 0, 0, 0, 0, 0, 0, 0, 0, 0, 0, 0, 0, 0, 1, 1, 0, 0, 1, 1, 0,\n",
              "        0, 0, 0, 0, 0, 0, 0, 0, 0, 1, 1, 0, 0, 0, 0, 0, 0, 0, 0, 0, 0, 0,\n",
              "        0, 0, 0, 0, 0, 0, 0, 0, 0, 0, 0, 0, 0]])"
            ]
          },
          "metadata": {},
          "execution_count": 42
        }
      ]
    },
    {
      "cell_type": "code",
      "source": [
        "### TF-IDF\n",
        "from sklearn.feature_extraction.text import TfidfVectorizer\n",
        "cv = TfidfVectorizer(ngram_range= (2 , 3) , max_features = 10)\n",
        "X = cv.fit_transform(corpus)"
      ],
      "metadata": {
        "id": "7xSa18OanZ2B"
      },
      "execution_count": 52,
      "outputs": []
    },
    {
      "cell_type": "code",
      "source": [
        "X[0].toarray()"
      ],
      "metadata": {
        "colab": {
          "base_uri": "https://localhost:8080/"
        },
        "id": "fO94HDksFrQh",
        "outputId": "9a85e287-b619-460a-d62c-114e07b9d064"
      },
      "execution_count": 53,
      "outputs": [
        {
          "output_type": "execute_result",
          "data": {
            "text/plain": [
              "array([[0., 0., 0., 0., 0., 0., 0., 0., 0., 1.]])"
            ]
          },
          "metadata": {},
          "execution_count": 53
        }
      ]
    },
    {
      "cell_type": "code",
      "source": [],
      "metadata": {
        "id": "0TvdnEegFuDx"
      },
      "execution_count": null,
      "outputs": []
    }
  ]
}