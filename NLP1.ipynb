{
  "nbformat": 4,
  "nbformat_minor": 0,
  "metadata": {
    "colab": {
      "provenance": [],
      "authorship_tag": "ABX9TyNw15Qw0nSO/wSS5A0b87di",
      "include_colab_link": true
    },
    "kernelspec": {
      "name": "python3",
      "display_name": "Python 3"
    },
    "language_info": {
      "name": "python"
    },
    "gpuClass": "standard"
  },
  "cells": [
    {
      "cell_type": "markdown",
      "metadata": {
        "id": "view-in-github",
        "colab_type": "text"
      },
      "source": [
        "<a href=\"https://colab.research.google.com/github/sparsh2002/Advanced_Natural_Language_Processing/blob/master/NLP1.ipynb\" target=\"_parent\"><img src=\"https://colab.research.google.com/assets/colab-badge.svg\" alt=\"Open In Colab\"/></a>"
      ]
    },
    {
      "cell_type": "code",
      "execution_count": 2,
      "metadata": {
        "colab": {
          "base_uri": "https://localhost:8080/"
        },
        "id": "0XJ5_RlTwF1P",
        "outputId": "9e821c12-c3ad-49ca-f7ea-e7cd4be025c3"
      },
      "outputs": [
        {
          "output_type": "stream",
          "name": "stdout",
          "text": [
            "Looking in indexes: https://pypi.org/simple, https://us-python.pkg.dev/colab-wheels/public/simple/\n",
            "Requirement already satisfied: nltk in /usr/local/lib/python3.8/dist-packages (3.7)\n",
            "Requirement already satisfied: click in /usr/local/lib/python3.8/dist-packages (from nltk) (8.1.3)\n",
            "Requirement already satisfied: tqdm in /usr/local/lib/python3.8/dist-packages (from nltk) (4.64.1)\n",
            "Requirement already satisfied: joblib in /usr/local/lib/python3.8/dist-packages (from nltk) (1.2.0)\n",
            "Requirement already satisfied: regex>=2021.8.3 in /usr/local/lib/python3.8/dist-packages (from nltk) (2022.6.2)\n"
          ]
        }
      ],
      "source": [
        "!pip install nltk"
      ]
    },
    {
      "cell_type": "code",
      "source": [
        "paragraph = \"\"\"\n",
        "Narendra Damodardas Modi (Gujarati: [ˈnəɾendɾə dɑmodəɾˈdɑs ˈmodiː] (listen); born 17 September 1950)[b] is an Indian politician serving as the 14th and current Prime Minister of India since 2014. Modi was the Chief Minister of Gujarat from 2001 to 2014 and is the Member of Parliament from Varanasi. He is a member of the Bharatiya Janata Party (BJP) and of the Rashtriya Swayamsevak Sangh (RSS), a right-wing Hindu nationalist paramilitary volunteer organisation. He is the longest serving prime minister from outside the Indian National Congress.\n",
        "\n",
        "Modi was born and raised in Vadnagar in northeastern Gujarat, where he completed his secondary education. He was introduced to the RSS at age eight. He has reminisced about helping out after school at his father's tea stall at the Vadnagar railway station. At age 18, Modi was married to Jashodaben Chimanlal Modi, whom he abandoned soon after. He first publicly acknowledged her as his wife more than four decades later when required to do so by Indian law, but has made no contact with her since. Modi has asserted he had travelled in northern India for two years after leaving his parental home, visiting a number of religious centres, but few details of his travels have emerged. Upon his return to Gujarat in 1971, he became a full-time worker for the RSS. After the state of emergency was declared by prime minister Indira Gandhi in 1975, Modi went into hiding. The RSS assigned him to the BJP in 1985 and he held several positions within the party hierarchy until 2001, rising to the rank of general secretary.[c] \n",
        "\"\"\""
      ],
      "metadata": {
        "id": "6gXUrKCswJIZ"
      },
      "execution_count": 3,
      "outputs": []
    },
    {
      "cell_type": "code",
      "source": [
        "paragraph"
      ],
      "metadata": {
        "colab": {
          "base_uri": "https://localhost:8080/",
          "height": 146
        },
        "id": "ACRbilQuwgyC",
        "outputId": "b0d11060-7cef-4fd1-bbe4-f301fc68a677"
      },
      "execution_count": 4,
      "outputs": [
        {
          "output_type": "execute_result",
          "data": {
            "text/plain": [
              "\"\\nNarendra Damodardas Modi (Gujarati: [ˈnəɾendɾə dɑmodəɾˈdɑs ˈmodiː] (listen); born 17 September 1950)[b] is an Indian politician serving as the 14th and current Prime Minister of India since 2014. Modi was the Chief Minister of Gujarat from 2001 to 2014 and is the Member of Parliament from Varanasi. He is a member of the Bharatiya Janata Party (BJP) and of the Rashtriya Swayamsevak Sangh (RSS), a right-wing Hindu nationalist paramilitary volunteer organisation. He is the longest serving prime minister from outside the Indian National Congress.\\n\\nModi was born and raised in Vadnagar in northeastern Gujarat, where he completed his secondary education. He was introduced to the RSS at age eight. He has reminisced about helping out after school at his father's tea stall at the Vadnagar railway station. At age 18, Modi was married to Jashodaben Chimanlal Modi, whom he abandoned soon after. He first publicly acknowledged her as his wife more than four decades later when required to do so by Indian law, but has made no contact with her since. Modi has asserted he had travelled in northern India for two years after leaving his parental home, visiting a number of religious centres, but few details of his travels have emerged. Upon his return to Gujarat in 1971, he became a full-time worker for the RSS. After the state of emergency was declared by prime minister Indira Gandhi in 1975, Modi went into hiding. The RSS assigned him to the BJP in 1985 and he held several positions within the party hierarchy until 2001, rising to the rank of general secretary.[c] \\n\""
            ],
            "application/vnd.google.colaboratory.intrinsic+json": {
              "type": "string"
            }
          },
          "metadata": {},
          "execution_count": 4
        }
      ]
    },
    {
      "cell_type": "code",
      "source": [
        "import nltk \n",
        "from nltk.stem import PorterStemmer\n",
        "from nltk.corpus import stopwords"
      ],
      "metadata": {
        "id": "g-6bCiRQwiAx"
      },
      "execution_count": 5,
      "outputs": []
    },
    {
      "cell_type": "code",
      "source": [
        "## tokenization  \n",
        "nltk.download('punkt')\n",
        "sentences = nltk.sent_tokenize(paragraph)"
      ],
      "metadata": {
        "colab": {
          "base_uri": "https://localhost:8080/"
        },
        "id": "Pc5x3OA-w1YD",
        "outputId": "a54bbe13-6cbb-4dac-fbb7-82c6519005e2"
      },
      "execution_count": 6,
      "outputs": [
        {
          "output_type": "stream",
          "name": "stderr",
          "text": [
            "[nltk_data] Downloading package punkt to /root/nltk_data...\n",
            "[nltk_data]   Unzipping tokenizers/punkt.zip.\n"
          ]
        }
      ]
    },
    {
      "cell_type": "code",
      "source": [
        "sentences"
      ],
      "metadata": {
        "colab": {
          "base_uri": "https://localhost:8080/"
        },
        "id": "E2peaUlsxMNE",
        "outputId": "b24469ec-ded5-4be1-b27d-93393c898390"
      },
      "execution_count": 7,
      "outputs": [
        {
          "output_type": "execute_result",
          "data": {
            "text/plain": [
              "['\\nNarendra Damodardas Modi (Gujarati: [ˈnəɾendɾə dɑmodəɾˈdɑs ˈmodiː] (listen); born 17 September 1950)[b] is an Indian politician serving as the 14th and current Prime Minister of India since 2014.',\n",
              " 'Modi was the Chief Minister of Gujarat from 2001 to 2014 and is the Member of Parliament from Varanasi.',\n",
              " 'He is a member of the Bharatiya Janata Party (BJP) and of the Rashtriya Swayamsevak Sangh (RSS), a right-wing Hindu nationalist paramilitary volunteer organisation.',\n",
              " 'He is the longest serving prime minister from outside the Indian National Congress.',\n",
              " 'Modi was born and raised in Vadnagar in northeastern Gujarat, where he completed his secondary education.',\n",
              " 'He was introduced to the RSS at age eight.',\n",
              " \"He has reminisced about helping out after school at his father's tea stall at the Vadnagar railway station.\",\n",
              " 'At age 18, Modi was married to Jashodaben Chimanlal Modi, whom he abandoned soon after.',\n",
              " 'He first publicly acknowledged her as his wife more than four decades later when required to do so by Indian law, but has made no contact with her since.',\n",
              " 'Modi has asserted he had travelled in northern India for two years after leaving his parental home, visiting a number of religious centres, but few details of his travels have emerged.',\n",
              " 'Upon his return to Gujarat in 1971, he became a full-time worker for the RSS.',\n",
              " 'After the state of emergency was declared by prime minister Indira Gandhi in 1975, Modi went into hiding.',\n",
              " 'The RSS assigned him to the BJP in 1985 and he held several positions within the party hierarchy until 2001, rising to the rank of general secretary.',\n",
              " '[c]']"
            ]
          },
          "metadata": {},
          "execution_count": 7
        }
      ]
    },
    {
      "cell_type": "code",
      "source": [
        "stemmer = PorterStemmer()"
      ],
      "metadata": {
        "id": "lnjmnaQVxVzb"
      },
      "execution_count": 8,
      "outputs": []
    },
    {
      "cell_type": "code",
      "source": [
        "stemmer.stem('thinking')"
      ],
      "metadata": {
        "colab": {
          "base_uri": "https://localhost:8080/",
          "height": 36
        },
        "id": "HLuvcHvdxpT1",
        "outputId": "617d0838-95e5-46e0-aaa3-a365e2940cc3"
      },
      "execution_count": 9,
      "outputs": [
        {
          "output_type": "execute_result",
          "data": {
            "text/plain": [
              "'think'"
            ],
            "application/vnd.google.colaboratory.intrinsic+json": {
              "type": "string"
            }
          },
          "metadata": {},
          "execution_count": 9
        }
      ]
    },
    {
      "cell_type": "code",
      "source": [
        "from nltk.stem import WordNetLemmatizer\n",
        "nltk.download('wordnet')\n",
        "nltk.download('omw-1.4')"
      ],
      "metadata": {
        "colab": {
          "base_uri": "https://localhost:8080/"
        },
        "id": "QzzntOOwxsQ0",
        "outputId": "c204e91e-725a-474d-c0a5-f047cacc4948"
      },
      "execution_count": 10,
      "outputs": [
        {
          "output_type": "stream",
          "name": "stderr",
          "text": [
            "[nltk_data] Downloading package wordnet to /root/nltk_data...\n",
            "[nltk_data] Downloading package omw-1.4 to /root/nltk_data...\n"
          ]
        },
        {
          "output_type": "execute_result",
          "data": {
            "text/plain": [
              "True"
            ]
          },
          "metadata": {},
          "execution_count": 10
        }
      ]
    },
    {
      "cell_type": "code",
      "source": [
        "lemmatizer = WordNetLemmatizer()"
      ],
      "metadata": {
        "id": "HbnbJqJgyR4K"
      },
      "execution_count": 11,
      "outputs": []
    },
    {
      "cell_type": "code",
      "source": [
        "lemmatizer.lemmatize('drinking')"
      ],
      "metadata": {
        "colab": {
          "base_uri": "https://localhost:8080/",
          "height": 36
        },
        "id": "xkgn71bQyX5Z",
        "outputId": "1a32d23e-c354-4023-c64a-34dd3df2bacf"
      },
      "execution_count": 12,
      "outputs": [
        {
          "output_type": "execute_result",
          "data": {
            "text/plain": [
              "'drinking'"
            ],
            "application/vnd.google.colaboratory.intrinsic+json": {
              "type": "string"
            }
          },
          "metadata": {},
          "execution_count": 12
        }
      ]
    },
    {
      "cell_type": "code",
      "source": [
        "import re\n",
        "corpus = []\n",
        "\n",
        "for i in range(len(sentences)):\n",
        "  review = re.sub('[^a-zA-z]' , ' ' , sentences[i])\n",
        "  review.lower()\n",
        "  review.split()\n",
        "  corpus.append(review)"
      ],
      "metadata": {
        "id": "LKmx66o2yePJ"
      },
      "execution_count": 13,
      "outputs": []
    },
    {
      "cell_type": "code",
      "source": [
        "corpus"
      ],
      "metadata": {
        "colab": {
          "base_uri": "https://localhost:8080/"
        },
        "id": "09xGGQu7zov3",
        "outputId": "eee564a4-7e98-4e32-f6a7-e507c4e7cb86"
      },
      "execution_count": 14,
      "outputs": [
        {
          "output_type": "execute_result",
          "data": {
            "text/plain": [
              "[' Narendra Damodardas Modi  Gujarati  [ n  end   d mod   d s  modi ]  listen   born    September      [b] is an Indian politician serving as the   th and current Prime Minister of India since      ',\n",
              " 'Modi was the Chief Minister of Gujarat from      to      and is the Member of Parliament from Varanasi ',\n",
              " 'He is a member of the Bharatiya Janata Party  BJP  and of the Rashtriya Swayamsevak Sangh  RSS   a right wing Hindu nationalist paramilitary volunteer organisation ',\n",
              " 'He is the longest serving prime minister from outside the Indian National Congress ',\n",
              " 'Modi was born and raised in Vadnagar in northeastern Gujarat  where he completed his secondary education ',\n",
              " 'He was introduced to the RSS at age eight ',\n",
              " 'He has reminisced about helping out after school at his father s tea stall at the Vadnagar railway station ',\n",
              " 'At age     Modi was married to Jashodaben Chimanlal Modi  whom he abandoned soon after ',\n",
              " 'He first publicly acknowledged her as his wife more than four decades later when required to do so by Indian law  but has made no contact with her since ',\n",
              " 'Modi has asserted he had travelled in northern India for two years after leaving his parental home  visiting a number of religious centres  but few details of his travels have emerged ',\n",
              " 'Upon his return to Gujarat in       he became a full time worker for the RSS ',\n",
              " 'After the state of emergency was declared by prime minister Indira Gandhi in       Modi went into hiding ',\n",
              " 'The RSS assigned him to the BJP in      and he held several positions within the party hierarchy until       rising to the rank of general secretary ',\n",
              " '[c]']"
            ]
          },
          "metadata": {},
          "execution_count": 14
        }
      ]
    },
    {
      "cell_type": "code",
      "source": [
        "## stemming\n",
        "nltk.download('stopwords')\n",
        "for i in corpus:\n",
        "  words = nltk.word_tokenize(i)\n",
        "  for word in words:\n",
        "    if word not in set(stopwords.words('english')):\n",
        "      print(stemmer.stem(word))"
      ],
      "metadata": {
        "colab": {
          "base_uri": "https://localhost:8080/"
        },
        "id": "efmdtj3rzrG9",
        "outputId": "e0a371d1-3554-44e0-88da-46b02b7f3553"
      },
      "execution_count": 17,
      "outputs": [
        {
          "output_type": "stream",
          "name": "stdout",
          "text": [
            "narendra\n",
            "damodarda\n",
            "modi\n",
            "gujarati\n",
            "[\n",
            "n\n",
            "end\n",
            "mod\n",
            "modi\n",
            "]\n",
            "listen\n",
            "born\n",
            "septemb\n",
            "[\n",
            "b\n",
            "]\n",
            "indian\n",
            "politician\n",
            "serv\n",
            "th\n",
            "current\n",
            "prime\n",
            "minist\n",
            "india\n",
            "sinc\n",
            "modi\n",
            "chief\n",
            "minist\n",
            "gujarat\n",
            "member\n",
            "parliament\n",
            "varanasi\n",
            "he\n",
            "member\n",
            "bharatiya\n",
            "janata\n",
            "parti\n",
            "bjp\n",
            "rashtriya\n",
            "swayamsevak\n",
            "sangh\n",
            "rss\n",
            "right\n",
            "wing\n",
            "hindu\n",
            "nationalist\n",
            "paramilitari\n",
            "volunt\n",
            "organis\n",
            "he\n",
            "longest\n",
            "serv\n",
            "prime\n",
            "minist\n",
            "outsid\n",
            "indian\n",
            "nation\n",
            "congress\n",
            "modi\n",
            "born\n",
            "rais\n",
            "vadnagar\n",
            "northeastern\n",
            "gujarat\n",
            "complet\n",
            "secondari\n",
            "educ\n",
            "he\n",
            "introduc\n",
            "rss\n",
            "age\n",
            "eight\n",
            "he\n",
            "reminisc\n",
            "help\n",
            "school\n",
            "father\n",
            "tea\n",
            "stall\n",
            "vadnagar\n",
            "railway\n",
            "station\n",
            "at\n",
            "age\n",
            "modi\n",
            "marri\n",
            "jashodaben\n",
            "chimanl\n",
            "modi\n",
            "abandon\n",
            "soon\n",
            "he\n",
            "first\n",
            "publicli\n",
            "acknowledg\n",
            "wife\n",
            "four\n",
            "decad\n",
            "later\n",
            "requir\n",
            "indian\n",
            "law\n",
            "made\n",
            "contact\n",
            "sinc\n",
            "modi\n",
            "assert\n",
            "travel\n",
            "northern\n",
            "india\n",
            "two\n",
            "year\n",
            "leav\n",
            "parent\n",
            "home\n",
            "visit\n",
            "number\n",
            "religi\n",
            "centr\n",
            "detail\n",
            "travel\n",
            "emerg\n",
            "upon\n",
            "return\n",
            "gujarat\n",
            "becam\n",
            "full\n",
            "time\n",
            "worker\n",
            "rss\n",
            "after\n",
            "state\n",
            "emerg\n",
            "declar\n",
            "prime\n",
            "minist\n",
            "indira\n",
            "gandhi\n",
            "modi\n",
            "went\n",
            "hide\n",
            "the\n",
            "rss\n",
            "assign\n",
            "bjp\n",
            "held\n",
            "sever\n",
            "posit\n",
            "within\n",
            "parti\n",
            "hierarchi\n",
            "rise\n",
            "rank\n",
            "gener\n",
            "secretari\n",
            "[\n",
            "c\n",
            "]\n"
          ]
        },
        {
          "output_type": "stream",
          "name": "stderr",
          "text": [
            "[nltk_data] Downloading package stopwords to /root/nltk_data...\n",
            "[nltk_data]   Unzipping corpora/stopwords.zip.\n"
          ]
        }
      ]
    },
    {
      "cell_type": "code",
      "source": [
        "## Lemmatization\n",
        "for i in corpus:\n",
        "  words = nltk.word_tokenize(i)\n",
        "  for word in words:\n",
        "    if word not in set(stopwords.words('english')):\n",
        "      print(lemmatizer.lemmatize(word))"
      ],
      "metadata": {
        "colab": {
          "base_uri": "https://localhost:8080/"
        },
        "id": "PgTo93sEmRQf",
        "outputId": "46c556e8-b26a-493a-8c07-51d047637266"
      },
      "execution_count": 18,
      "outputs": [
        {
          "output_type": "stream",
          "name": "stdout",
          "text": [
            "Narendra\n",
            "Damodardas\n",
            "Modi\n",
            "Gujarati\n",
            "[\n",
            "n\n",
            "end\n",
            "mod\n",
            "modi\n",
            "]\n",
            "listen\n",
            "born\n",
            "September\n",
            "[\n",
            "b\n",
            "]\n",
            "Indian\n",
            "politician\n",
            "serving\n",
            "th\n",
            "current\n",
            "Prime\n",
            "Minister\n",
            "India\n",
            "since\n",
            "Modi\n",
            "Chief\n",
            "Minister\n",
            "Gujarat\n",
            "Member\n",
            "Parliament\n",
            "Varanasi\n",
            "He\n",
            "member\n",
            "Bharatiya\n",
            "Janata\n",
            "Party\n",
            "BJP\n",
            "Rashtriya\n",
            "Swayamsevak\n",
            "Sangh\n",
            "RSS\n",
            "right\n",
            "wing\n",
            "Hindu\n",
            "nationalist\n",
            "paramilitary\n",
            "volunteer\n",
            "organisation\n",
            "He\n",
            "longest\n",
            "serving\n",
            "prime\n",
            "minister\n",
            "outside\n",
            "Indian\n",
            "National\n",
            "Congress\n",
            "Modi\n",
            "born\n",
            "raised\n",
            "Vadnagar\n",
            "northeastern\n",
            "Gujarat\n",
            "completed\n",
            "secondary\n",
            "education\n",
            "He\n",
            "introduced\n",
            "RSS\n",
            "age\n",
            "eight\n",
            "He\n",
            "reminisced\n",
            "helping\n",
            "school\n",
            "father\n",
            "tea\n",
            "stall\n",
            "Vadnagar\n",
            "railway\n",
            "station\n",
            "At\n",
            "age\n",
            "Modi\n",
            "married\n",
            "Jashodaben\n",
            "Chimanlal\n",
            "Modi\n",
            "abandoned\n",
            "soon\n",
            "He\n",
            "first\n",
            "publicly\n",
            "acknowledged\n",
            "wife\n",
            "four\n",
            "decade\n",
            "later\n",
            "required\n",
            "Indian\n",
            "law\n",
            "made\n",
            "contact\n",
            "since\n",
            "Modi\n",
            "asserted\n",
            "travelled\n",
            "northern\n",
            "India\n",
            "two\n",
            "year\n",
            "leaving\n",
            "parental\n",
            "home\n",
            "visiting\n",
            "number\n",
            "religious\n",
            "centre\n",
            "detail\n",
            "travel\n",
            "emerged\n",
            "Upon\n",
            "return\n",
            "Gujarat\n",
            "became\n",
            "full\n",
            "time\n",
            "worker\n",
            "RSS\n",
            "After\n",
            "state\n",
            "emergency\n",
            "declared\n",
            "prime\n",
            "minister\n",
            "Indira\n",
            "Gandhi\n",
            "Modi\n",
            "went\n",
            "hiding\n",
            "The\n",
            "RSS\n",
            "assigned\n",
            "BJP\n",
            "held\n",
            "several\n",
            "position\n",
            "within\n",
            "party\n",
            "hierarchy\n",
            "rising\n",
            "rank\n",
            "general\n",
            "secretary\n",
            "[\n",
            "c\n",
            "]\n"
          ]
        }
      ]
    },
    {
      "cell_type": "code",
      "source": [
        "## Apply Stopswords. Lemmatize\n",
        "import re\n",
        "corpus = []\n",
        "for i in range(len(sentences)):\n",
        "    review = re.sub('[^a-zA-Z]', ' ', sentences[i])\n",
        "    review = review.lower()\n",
        "    review = review.split()\n",
        "    review = [lemmatizer.lemmatize(word) for word in review if not word in set(stopwords.words('english'))]\n",
        "    review = ' '.join(review)\n",
        "    corpus.append(review)"
      ],
      "metadata": {
        "id": "VegQjyOLqUCM"
      },
      "execution_count": 29,
      "outputs": []
    },
    {
      "cell_type": "code",
      "source": [
        "from sklearn.feature_extraction.text import CountVectorizer\n",
        "cv = CountVectorizer(binary=True)"
      ],
      "metadata": {
        "id": "S9G2iGQJm0td"
      },
      "execution_count": 30,
      "outputs": []
    },
    {
      "cell_type": "code",
      "source": [
        "X = cv.fit_transform(corpus)"
      ],
      "metadata": {
        "id": "0d5V25d9nBav"
      },
      "execution_count": 31,
      "outputs": []
    },
    {
      "cell_type": "code",
      "source": [
        "cv.vocabulary_"
      ],
      "metadata": {
        "colab": {
          "base_uri": "https://localhost:8080/"
        },
        "id": "zmVoFOGEnItW",
        "outputId": "c6558fed-0297-4d18-e5dc-8c095fc086df"
      },
      "execution_count": 32,
      "outputs": [
        {
          "output_type": "execute_result",
          "data": {
            "text/plain": [
              "{'narendra': 56,\n",
              " 'damodardas': 16,\n",
              " 'modi': 55,\n",
              " 'gujarati': 32,\n",
              " 'end': 24,\n",
              " 'mod': 54,\n",
              " 'listen': 48,\n",
              " 'born': 8,\n",
              " 'september': 86,\n",
              " 'indian': 40,\n",
              " 'politician': 68,\n",
              " 'serving': 87,\n",
              " 'th': 96,\n",
              " 'current': 15,\n",
              " 'prime': 70,\n",
              " 'minister': 53,\n",
              " 'india': 39,\n",
              " 'since': 89,\n",
              " 'chief': 10,\n",
              " 'gujarat': 31,\n",
              " 'member': 52,\n",
              " 'parliament': 66,\n",
              " 'varanasi': 103,\n",
              " 'bharatiya': 6,\n",
              " 'janata': 43,\n",
              " 'party': 67,\n",
              " 'bjp': 7,\n",
              " 'rashtriya': 75,\n",
              " 'swayamsevak': 94,\n",
              " 'sangh': 82,\n",
              " 'right': 80,\n",
              " 'wing': 108,\n",
              " 'hindu': 37,\n",
              " 'nationalist': 58,\n",
              " 'paramilitary': 64,\n",
              " 'volunteer': 105,\n",
              " 'organisation': 62,\n",
              " 'longest': 49,\n",
              " 'outside': 63,\n",
              " 'national': 57,\n",
              " 'congress': 13,\n",
              " 'raised': 73,\n",
              " 'vadnagar': 102,\n",
              " 'northeastern': 59,\n",
              " 'completed': 12,\n",
              " 'secondary': 84,\n",
              " 'education': 20,\n",
              " 'introduced': 42,\n",
              " 'age': 2,\n",
              " 'eight': 21,\n",
              " 'reminisced': 77,\n",
              " 'helping': 34,\n",
              " 'school': 83,\n",
              " 'father': 25,\n",
              " 'tea': 95,\n",
              " 'stall': 91,\n",
              " 'railway': 72,\n",
              " 'station': 93,\n",
              " 'married': 51,\n",
              " 'jashodaben': 44,\n",
              " 'chimanlal': 11,\n",
              " 'abandoned': 0,\n",
              " 'soon': 90,\n",
              " 'first': 26,\n",
              " 'publicly': 71,\n",
              " 'acknowledged': 1,\n",
              " 'wife': 107,\n",
              " 'four': 27,\n",
              " 'decade': 17,\n",
              " 'later': 45,\n",
              " 'required': 78,\n",
              " 'law': 46,\n",
              " 'made': 50,\n",
              " 'contact': 14,\n",
              " 'asserted': 3,\n",
              " 'travelled': 99,\n",
              " 'northern': 60,\n",
              " 'two': 100,\n",
              " 'year': 111,\n",
              " 'leaving': 47,\n",
              " 'parental': 65,\n",
              " 'home': 38,\n",
              " 'visiting': 104,\n",
              " 'number': 61,\n",
              " 'religious': 76,\n",
              " 'centre': 9,\n",
              " 'detail': 19,\n",
              " 'travel': 98,\n",
              " 'emerged': 22,\n",
              " 'upon': 101,\n",
              " 'return': 79,\n",
              " 'became': 5,\n",
              " 'full': 28,\n",
              " 'time': 97,\n",
              " 'worker': 110,\n",
              " 'state': 92,\n",
              " 'emergency': 23,\n",
              " 'declared': 18,\n",
              " 'indira': 41,\n",
              " 'gandhi': 29,\n",
              " 'went': 106,\n",
              " 'hiding': 35,\n",
              " 'assigned': 4,\n",
              " 'held': 33,\n",
              " 'several': 88,\n",
              " 'position': 69,\n",
              " 'within': 109,\n",
              " 'hierarchy': 36,\n",
              " 'rising': 81,\n",
              " 'rank': 74,\n",
              " 'general': 30,\n",
              " 'secretary': 85}"
            ]
          },
          "metadata": {},
          "execution_count": 32
        }
      ]
    },
    {
      "cell_type": "code",
      "source": [
        "corpus[0]"
      ],
      "metadata": {
        "colab": {
          "base_uri": "https://localhost:8080/",
          "height": 36
        },
        "id": "IVviVSIunOJs",
        "outputId": "51fb19bb-d381-4b6b-82d5-34fa0805ea2f"
      },
      "execution_count": 33,
      "outputs": [
        {
          "output_type": "execute_result",
          "data": {
            "text/plain": [
              "'narendra damodardas modi gujarati n end mod modi listen born september b indian politician serving th current prime minister india since'"
            ],
            "application/vnd.google.colaboratory.intrinsic+json": {
              "type": "string"
            }
          },
          "metadata": {},
          "execution_count": 33
        }
      ]
    },
    {
      "cell_type": "code",
      "source": [
        "X[0].toarray()"
      ],
      "metadata": {
        "colab": {
          "base_uri": "https://localhost:8080/"
        },
        "id": "mAFQuX0EnVGE",
        "outputId": "cd2e9993-bda1-480d-efc0-69207c7762bf"
      },
      "execution_count": 34,
      "outputs": [
        {
          "output_type": "execute_result",
          "data": {
            "text/plain": [
              "array([[0, 0, 0, 0, 0, 0, 0, 0, 1, 0, 0, 0, 0, 0, 0, 1, 1, 0, 0, 0, 0, 0,\n",
              "        0, 0, 1, 0, 0, 0, 0, 0, 0, 0, 1, 0, 0, 0, 0, 0, 0, 1, 1, 0, 0, 0,\n",
              "        0, 0, 0, 0, 1, 0, 0, 0, 0, 1, 1, 1, 1, 0, 0, 0, 0, 0, 0, 0, 0, 0,\n",
              "        0, 0, 1, 0, 1, 0, 0, 0, 0, 0, 0, 0, 0, 0, 0, 0, 0, 0, 0, 0, 1, 1,\n",
              "        0, 1, 0, 0, 0, 0, 0, 0, 1, 0, 0, 0, 0, 0, 0, 0, 0, 0, 0, 0, 0, 0,\n",
              "        0, 0]])"
            ]
          },
          "metadata": {},
          "execution_count": 34
        }
      ]
    },
    {
      "cell_type": "code",
      "source": [],
      "metadata": {
        "id": "7xSa18OanZ2B"
      },
      "execution_count": null,
      "outputs": []
    }
  ]
}